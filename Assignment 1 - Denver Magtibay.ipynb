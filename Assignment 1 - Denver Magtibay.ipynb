{
 "cells": [
  {
   "cell_type": "markdown",
   "id": "1cb0b7fb",
   "metadata": {},
   "source": [
    "# Part 1"
   ]
  },
  {
   "cell_type": "code",
   "execution_count": 9,
   "id": "99bfbb0e",
   "metadata": {},
   "outputs": [],
   "source": [
    "import torch\n",
    "import torch.nn as nn\n",
    "\n",
    "class NeuralNetwork(nn.Module):\n",
    "    def __init__(self):\n",
    "        super().__init__()\n",
    "        self.linear = nn.Linear(in_features=1, out_features=1, bias=False)\n",
    "        self.linear.weight.data = torch.tensor([-1.5])\n",
    "        self.sigmoid = nn.Sigmoid()\n",
    "        self.threshold = nn.Threshold(0, 0)\n",
    "        self.relu = nn.ReLU()\n",
    "        self.tanh = nn.Tanh()\n",
    "\n",
    "    def forward(self, x):\n",
    "        sigmoid_output = self.sigmoid(self.linear(x))\n",
    "        threshold_output = self.threshold(self.linear(x))\n",
    "        relu_output = self.relu(self.linear(x))\n",
    "        tanh_output = self.tanh(self.linear(x))\n",
    "        \n",
    "        return {\n",
    "            \"Sigmoid\": sigmoid_output,\n",
    "            \"Threshold\": threshold_output,\n",
    "            \"ReLU\": relu_output,\n",
    "            \"Tanh\": tanh_output\n",
    "        }"
   ]
  },
  {
   "cell_type": "code",
   "execution_count": 12,
   "id": "e7998b09",
   "metadata": {},
   "outputs": [
    {
     "name": "stdout",
     "output_type": "stream",
     "text": [
      "Sigmoid Output: 0.32082128524780273\n",
      "Threshold Output: 0.0\n",
      "ReLU Output: 0.0\n",
      "Tanh Output: -0.6351489424705505\n"
     ]
    }
   ],
   "source": [
    "ann = NeuralNetwork()\n",
    "\n",
    "input_tensor = torch.tensor([0.5])\n",
    "\n",
    "output_dict = ann(input_tensor)\n",
    "\n",
    "for activation, output in output_dict.items():\n",
    "    print(f\"{activation} Output:\", output.item())"
   ]
  },
  {
   "cell_type": "markdown",
   "id": "ce23fe3e",
   "metadata": {},
   "source": [
    "# Manual Computation"
   ]
  },
  {
   "cell_type": "markdown",
   "id": "121771e1",
   "metadata": {},
   "source": [
    "z = w*x\n",
    "z = (-1.5)*(0.5)\n",
    "z = -0.75\n",
    "\n",
    "Sigmoid Output:\n",
    "σ(z) = 1/(1+e^(-z))\n",
    "σ(-0.75) = 1/(1+e^(-(-0.75)))\n",
    "σ(-0.75) = 0.3208\n",
    "\n",
    "Threshold Output:\n",
    "T(z) = 1 if z ≥ 0 and T(z) = 0 if z < 0\n",
    "T(-0.75) = 0\n",
    "\n",
    "ReLU Output:\n",
    "R(z) = max(0, z)\n",
    "R(-0.75) = 0\n",
    "\n",
    "Tanh Output:\n",
    "tanh(z) = (e^z−e^(−z))/(e^z+e^(−z))\n",
    "tanh(-0.75) = (e^(-0.75)−e^(−(-0.75)))/(e^(-0.75)+e^(−(-0.75)))\n",
    "tanh(-0.75) = -0.6351"
   ]
  },
  {
   "cell_type": "markdown",
   "id": "8d271501",
   "metadata": {},
   "source": [
    "# Part 2"
   ]
  },
  {
   "cell_type": "markdown",
   "id": "73ce7ebe",
   "metadata": {},
   "source": [
    "The first step is to plot the data on a 2-D graph of x_2 and x_1, and draw a line which separates the positive from the negative data points:"
   ]
  },
  {
   "attachments": {
    "graph.PNG": {
     "image/png": "[encoded data removed]"
    }
   },
   "cell_type": "markdown",
   "id": "4c0800a0",
   "metadata": {},
   "source": [
    "![graph.PNG](attachment:graph.PNG)"
   ]
  },
  {
   "cell_type": "markdown",
   "id": "5296f820",
   "metadata": {},
   "source": [
    "This line has slope -1/2 and x_2-intersect 5/4, so its equation is:\n",
    "\n",
    "x_2 = 5/4 - (1/2)x_1\n",
    "\n",
    "2x_1 + 4x_2 - 5 = 0.\n",
    "\n",
    "Taking account of which side is positive, this corresponds to these weights:\n",
    "\n",
    "w0 = -5\n",
    "\n",
    "w1 = 2\n",
    "\n",
    "w2 = 4"
   ]
  }
 ],
 "metadata": {
  "kernelspec": {
   "display_name": "Python 3 (ipykernel)",
   "language": "python",
   "name": "python3"
  },
  "language_info": {
   "codemirror_mode": {
    "name": "ipython",
    "version": 3
   },
   "file_extension": ".py",
   "mimetype": "text/x-python",
   "name": "python",
   "nbconvert_exporter": "python",
   "pygments_lexer": "ipython3",
   "version": "3.10.9"
  }
 },
 "nbformat": 4,
 "nbformat_minor": 5
}
