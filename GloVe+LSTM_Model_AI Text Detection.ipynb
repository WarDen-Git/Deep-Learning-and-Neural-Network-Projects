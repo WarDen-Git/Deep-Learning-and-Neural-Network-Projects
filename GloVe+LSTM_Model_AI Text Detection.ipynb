{
 "cells": [
  {
   "cell_type": "code",
   "execution_count": null,
   "metadata": {
    "colab": {
     "base_uri": "https://localhost:8080/"
    },
    "id": "EYArwYjTwHMq",
    "outputId": "a8e40c2c-f248-4247-e3fa-a04284b0181e"
   },
   "outputs": [
    {
     "name": "stdout",
     "output_type": "stream",
     "text": [
      "Drive already mounted at /content/drive; to attempt to forcibly remount, call drive.mount(\"/content/drive\", force_remount=True).\n"
     ]
    }
   ],
   "source": [
    "from google.colab import drive\n",
    "drive.mount('/content/drive')"
   ]
  },
  {
   "cell_type": "code",
   "execution_count": null,
   "metadata": {
    "id": "RXoTyCWCxgh6"
   },
   "outputs": [],
   "source": [
    "import pandas as pd\n",
    "import numpy as np\n",
    "import re\n",
    "from nltk.stem import PorterStemmer\n",
    "from sklearn.model_selection import train_test_split\n",
    "from keras.preprocessing.text import Tokenizer\n",
    "from keras.preprocessing.sequence import pad_sequences\n",
    "from keras.models import Sequential\n",
    "from keras.layers import Embedding, LSTM, Dense\n",
    "from keras.initializers import Constant\n",
    "from sklearn.metrics import accuracy_score, precision_score, recall_score, f1_score\n",
    "from google.colab import drive\n",
    "from keras.models import save_model"
   ]
  },
  {
   "cell_type": "code",
   "execution_count": null,
   "metadata": {
    "id": "ybNTDdGGv6vm"
   },
   "outputs": [],
   "source": [
    "# Specify the file path in your Google Drive\n",
    "file_path_excel = '/content/drive/MyDrive/Neural Net and Deep Learning Files/train_essays.xlsx'"
   ]
  },
  {
   "cell_type": "code",
   "execution_count": null,
   "metadata": {
    "colab": {
     "base_uri": "https://localhost:8080/"
    },
    "id": "KQ0CmXwOwNaa",
    "outputId": "2a292f14-b28d-457a-af53-3c9939e437ed"
   },
   "outputs": [
    {
     "name": "stdout",
     "output_type": "stream",
     "text": [
      "                                                text  generated\n",
      "0  Machine learning, a subset of artificial intel...          1\n",
      "1  A decision tree, a prominent machine learning ...          1\n",
      "2  Education, a cornerstone of societal progress,...          1\n",
      "3  Computers, the backbone of modern technology, ...          1\n",
      "4  Chess, a timeless game of strategy and intelle...          1\n"
     ]
    }
   ],
   "source": [
    "# Read the Excel file into a DataFrame\n",
    "df = pd.read_excel(file_path_excel)\n",
    "\n",
    "print(df.head())"
   ]
  },
  {
   "cell_type": "code",
   "execution_count": null,
   "metadata": {
    "colab": {
     "base_uri": "https://localhost:8080/"
    },
    "id": "qa78tHWwE9O9",
    "outputId": "5b76f869-8c02-4452-cf25-60469ae466bd"
   },
   "outputs": [
    {
     "name": "stdout",
     "output_type": "stream",
     "text": [
      "Sequence Lengths Statistics:\n",
      "count    1460.000000\n",
      "mean      536.306164\n",
      "std       179.219445\n",
      "min        36.000000\n",
      "25%       431.000000\n",
      "50%       515.000000\n",
      "75%       628.000000\n",
      "max      1364.000000\n",
      "dtype: float64\n",
      "Chosen maxlen (95th percentile): 859\n"
     ]
    }
   ],
   "source": [
    "# Initialize and fit the tokenizer\n",
    "tokenizer = Tokenizer()\n",
    "tokenizer.fit_on_texts(df['text'])\n",
    "\n",
    "# Convert texts to sequences of integers\n",
    "sequences = tokenizer.texts_to_sequences(df['text'])\n",
    "\n",
    "# Calculate the length of each sequence\n",
    "sequence_lengths = [len(seq) for seq in sequences]\n",
    "\n",
    "# Convert sequence lengths to a Pandas Series to use its functionalities\n",
    "sequence_lengths_series = pd.Series(sequence_lengths)\n",
    "\n",
    "# Basic statistics\n",
    "print(\"Sequence Lengths Statistics:\")\n",
    "print(sequence_lengths_series.describe())\n",
    "\n",
    "# Determine an appropriate maxlen\n",
    "# You might choose a value that captures a certain percentile of the data\n",
    "percentile = 95  # For example, the 95th percentile\n",
    "maxlen = int(sequence_lengths_series.quantile(percentile / 100))\n",
    "print(f\"Chosen maxlen (95th percentile): {maxlen}\")"
   ]
  },
  {
   "cell_type": "code",
   "execution_count": null,
   "metadata": {
    "id": "KtJsCwNcxzY0"
   },
   "outputs": [],
   "source": [
    "# Basic text cleaning\n",
    "def clean_text(text):\n",
    "    text = text.lower()\n",
    "    text = re.sub(r'\\d+', '', text)  # Remove numbers\n",
    "    text = re.sub(r'\\s+', ' ', text).strip()  # Remove extra whitespaces\n",
    "    return text\n",
    "\n",
    "df['text'] = df['text'].apply(clean_text)\n",
    "\n",
    "# Stemming\n",
    "stemmer = PorterStemmer()\n",
    "df['text'] = df['text'].apply(lambda x: ' '.join([stemmer.stem(word) for word in x.split()]))\n",
    "\n",
    "# Split data into training and testing\n",
    "X_train, X_test, y_train, y_test = train_test_split(df['text'], df['generated'], test_size=0.3, stratify=df['generated'])\n"
   ]
  },
  {
   "cell_type": "code",
   "execution_count": null,
   "metadata": {
    "id": "b979EoB46nB5"
   },
   "outputs": [],
   "source": [
    "# Tokenization and padding for GloVe\n",
    "glove_tokenizer = Tokenizer()\n",
    "glove_tokenizer.fit_on_texts(X_train)\n",
    "X_train_seq = glove_tokenizer.texts_to_sequences(X_train)\n",
    "X_test_seq = glove_tokenizer.texts_to_sequences(X_test)\n",
    "X_train_pad = pad_sequences(X_train_seq, maxlen=500)\n",
    "X_test_pad = pad_sequences(X_test_seq, maxlen=500)"
   ]
  },
  {
   "cell_type": "code",
   "execution_count": null,
   "metadata": {
    "id": "y9Trgbtb7uKM"
   },
   "outputs": [],
   "source": [
    "# Function to load GloVe embeddings\n",
    "def load_glove_embeddings(path, word_index, embedding_dim=50):\n",
    "    embeddings_index = {}\n",
    "    with open(path) as f:\n",
    "        for line in f:\n",
    "            values = line.split()\n",
    "            word = values[0]\n",
    "            coefs = np.asarray(values[1:], dtype='float32')\n",
    "            embeddings_index[word] = coefs\n",
    "\n",
    "    embedding_matrix = np.zeros((len(word_index) + 1, embedding_dim))\n",
    "    for word, i in word_index.items():\n",
    "        embedding_vector = embeddings_index.get(word)\n",
    "        if embedding_vector is not None:\n",
    "            embedding_matrix[i] = embedding_vector\n",
    "\n",
    "    return embedding_matrix"
   ]
  },
  {
   "cell_type": "code",
   "execution_count": null,
   "metadata": {
    "colab": {
     "base_uri": "https://localhost:8080/"
    },
    "id": "E8T8R57h8txp",
    "outputId": "7542f62f-097b-4871-b97b-c391e7e9bf98"
   },
   "outputs": [
    {
     "name": "stderr",
     "output_type": "stream",
     "text": [
      "WARNING:tensorflow:Layer lstm will not use cuDNN kernels since it doesn't meet the criteria. It will use a generic GPU kernel as fallback when running on GPU.\n"
     ]
    },
    {
     "name": "stdout",
     "output_type": "stream",
     "text": [
      "Epoch 1/5\n",
      "26/26 [==============================] - 45s 2s/step - loss: 0.3147 - accuracy: 0.8813 - val_loss: 0.2514 - val_accuracy: 0.9317\n",
      "Epoch 2/5\n",
      "26/26 [==============================] - 38s 1s/step - loss: 0.1799 - accuracy: 0.9437 - val_loss: 0.1990 - val_accuracy: 0.9317\n",
      "Epoch 3/5\n",
      "26/26 [==============================] - 42s 2s/step - loss: 0.1309 - accuracy: 0.9449 - val_loss: 0.1373 - val_accuracy: 0.9415\n",
      "Epoch 4/5\n",
      "26/26 [==============================] - 40s 2s/step - loss: 0.0655 - accuracy: 0.9743 - val_loss: 0.0567 - val_accuracy: 0.9902\n",
      "Epoch 5/5\n",
      "26/26 [==============================] - 38s 1s/step - loss: 0.0364 - accuracy: 0.9939 - val_loss: 0.0521 - val_accuracy: 0.9854\n"
     ]
    },
    {
     "name": "stderr",
     "output_type": "stream",
     "text": [
      "/usr/local/lib/python3.10/dist-packages/keras/src/engine/training.py:3103: UserWarning: You are saving your model as an HDF5 file via `model.save()`. This file format is considered legacy. We recommend using instead the native Keras format, e.g. `model.save('my_model.keras')`.\n",
      "  saving_api.save_model(\n"
     ]
    },
    {
     "name": "stdout",
     "output_type": "stream",
     "text": [
      "The GloVe + LSTM model has been saved to /content/drive/MyDrive/Neural Net and Deep Learning Files/glove_lstm_model.h5\n"
     ]
    }
   ],
   "source": [
    "# Load GloVe embeddings\n",
    "embedding_dim = 50  # Adjust according to your GloVe file\n",
    "embedding_matrix = load_glove_embeddings('/content/drive/MyDrive/Neural Net and Deep Learning Files/glove.6B.50d.txt', glove_tokenizer.word_index, embedding_dim)\n",
    "\n",
    "# Build GloVe + LSTM model\n",
    "glove_lstm_model = Sequential()\n",
    "glove_lstm_model.add(Embedding(len(glove_tokenizer.word_index) + 1,\n",
    "                               embedding_dim,\n",
    "                               embeddings_initializer=Constant(embedding_matrix),\n",
    "                               input_length=500,\n",
    "                               trainable=False))\n",
    "glove_lstm_model.add(LSTM(64, dropout=0.2, recurrent_dropout=0.2))\n",
    "glove_lstm_model.add(Dense(1, activation='sigmoid'))\n",
    "\n",
    "glove_lstm_model.compile(loss='binary_crossentropy', optimizer='adam', metrics=['accuracy'])\n",
    "glove_lstm_model.fit(X_train_pad, y_train, epochs=5, batch_size=32, validation_split=0.2)\n",
    "\n",
    "# Save the trained model\n",
    "model_save_path = '/content/drive/MyDrive/Neural Net and Deep Learning Files/glove_lstm_model.h5'\n",
    "glove_lstm_model.save(model_save_path)\n",
    "\n",
    "# Print a message indicating that the model has been saved\n",
    "print(f'The GloVe + LSTM model has been saved to {model_save_path}')"
   ]
  },
  {
   "cell_type": "code",
   "execution_count": null,
   "metadata": {
    "colab": {
     "base_uri": "https://localhost:8080/",
     "height": 668
    },
    "id": "Y9zbbpb2A0u0",
    "outputId": "44042c7b-c4a2-4ed0-b658-cae99e0aadbd"
   },
   "outputs": [
    {
     "name": "stdout",
     "output_type": "stream",
     "text": [
      "14/14 [==============================] - 2s 134ms/step\n",
      "Accuracy: 0.9931506849315068\n",
      "Precision: 0.8928571428571429\n",
      "Recall: 1.0\n",
      "F1 Score: 0.9433962264150945\n",
      "AUC-ROC Score: 0.9963680387409202\n"
     ]
    },
    {
     "data": {
      "image/png": "[encoded data removed]",
      "text/plain": [
       "<Figure size 800x600 with 2 Axes>"
      ]
     },
     "metadata": {},
     "output_type": "display_data"
    }
   ],
   "source": [
    "from sklearn.metrics import accuracy_score, precision_score, recall_score, f1_score, confusion_matrix, roc_auc_score\n",
    "import seaborn as sns\n",
    "import matplotlib.pyplot as plt\n",
    "from sklearn.metrics import roc_curve, auc\n",
    "\n",
    "def evaluate_model(model, X_test, y_test):\n",
    "    predictions = model.predict(X_test)\n",
    "    predictions = [1 if p > 0.5 else 0 for p in predictions]\n",
    "\n",
    "    accuracy = accuracy_score(y_test, predictions)\n",
    "    precision = precision_score(y_test, predictions)\n",
    "    recall = recall_score(y_test, predictions)\n",
    "    f1 = f1_score(y_test, predictions)\n",
    "    auc_roc = roc_auc_score(y_test, predictions)\n",
    "\n",
    "    # Confusion matrix\n",
    "    cm = confusion_matrix(y_test, predictions)\n",
    "\n",
    "    print(f\"Accuracy: {accuracy}\")\n",
    "    print(f\"Precision: {precision}\")\n",
    "    print(f\"Recall: {recall}\")\n",
    "    print(f\"F1 Score: {f1}\")\n",
    "    print(f\"AUC-ROC Score: {auc_roc}\")\n",
    "\n",
    "    # Display confusion matrix\n",
    "    plt.figure(figsize=(8, 6))\n",
    "    sns.heatmap(cm, annot=True, fmt='g', cmap='Blues',\n",
    "                xticklabels=['Predicted Negative', 'Predicted Positive'],\n",
    "                yticklabels=['Actual Negative', 'Actual Positive'])\n",
    "    plt.title('Confusion Matrix')\n",
    "    plt.xlabel('Predicted')\n",
    "    plt.ylabel('Actual')\n",
    "    plt.show()\n",
    "\n",
    "# Assuming you have imported roc_curve, auc, seaborn, and matplotlib.pyplot\n",
    "evaluate_model(glove_lstm_model, X_test_pad, y_test)\n"
   ]
  }
 ],
 "metadata": {
  "accelerator": "GPU",
  "colab": {
   "gpuType": "T4",
   "provenance": []
  },
  "kernelspec": {
   "display_name": "Python 3 (ipykernel)",
   "language": "python",
   "name": "python3"
  },
  "language_info": {
   "codemirror_mode": {
    "name": "ipython",
    "version": 3
   },
   "file_extension": ".py",
   "mimetype": "text/x-python",
   "name": "python",
   "nbconvert_exporter": "python",
   "pygments_lexer": "ipython3",
   "version": "3.10.9"
  }
 },
 "nbformat": 4,
 "nbformat_minor": 1
}
