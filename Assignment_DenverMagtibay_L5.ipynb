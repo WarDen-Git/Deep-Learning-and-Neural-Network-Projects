{
 "cells": [
  {
   "cell_type": "code",
   "execution_count": 20,
   "id": "feba3e36",
   "metadata": {},
   "outputs": [
    {
     "name": "stdout",
     "output_type": "stream",
     "text": [
      "Skip-gram Model: Conditional probability of 'quick' given 'brown': 0.1891\n"
     ]
    }
   ],
   "source": [
    "import numpy as np\n",
    "\n",
    "# Given word embeddings\n",
    "word_embeddings = {\n",
    "    \"The\": np.array([0.1, 0.3]),\n",
    "    \"quick\": np.array([0.5, 0.2]),\n",
    "    \"brown\": np.array([0.4, 0.9]),\n",
    "    \"fox\": np.array([0.7, 0.6])\n",
    "}\n",
    "\n",
    "# Skip-gram Model\n",
    "def skip_gram_probability(target_word, context_word):\n",
    "    # Assuming window size is 1\n",
    "    target_embedding = word_embeddings[target_word]\n",
    "    context_embedding = word_embeddings[context_word]\n",
    "    \n",
    "    dot_product = np.dot(target_embedding, context_embedding)\n",
    "    probability = np.exp(dot_product) / np.sum(np.exp([np.dot(target_embedding, emb) for emb in list(word_embeddings.values())]))\n",
    "    \n",
    "    return probability\n",
    "\n",
    "# Skip-gram Model: Conditional probability of \"quick\" given \"brown\"\n",
    "skip_gram_result = skip_gram_probability(\"brown\", \"quick\")\n",
    "print(f\"Skip-gram Model: Conditional probability of 'quick' given 'brown': {skip_gram_result:.4f}\")\n"
   ]
  },
  {
   "cell_type": "code",
   "execution_count": 2,
   "id": "3f9ccb41",
   "metadata": {},
   "outputs": [
    {
     "name": "stdout",
     "output_type": "stream",
     "text": [
      "Skip-gram Model: Conditional probability of 'quick' given 'brown': 0.2869\n"
     ]
    }
   ],
   "source": [
    "import numpy as np\n",
    "\n",
    "# Given word embeddings\n",
    "word_embeddings = {\n",
    "    \"The\": np.array([0.1, 0.3]),\n",
    "    \"quick\": np.array([0.5, 0.2]),\n",
    "    \"brown\": np.array([0.4, 0.9]),\n",
    "    \"fox\": np.array([0.7, 0.6])\n",
    "}\n",
    "\n",
    "# Skip-gram Model\n",
    "def skip_gram_probability(target_word, context_word):\n",
    "    # Assuming window size is 1\n",
    "    target_embedding = word_embeddings[target_word]\n",
    "    context_embedding = word_embeddings[context_word]\n",
    "    \n",
    "    dot_product = np.dot(target_embedding, context_embedding)\n",
    "    \n",
    "    # Exclude target word from denominator\n",
    "    denominator = sum(np.exp(np.dot(target_embedding, emb)) for word, emb in word_embeddings.items() if word != target_word)\n",
    "    \n",
    "    probability = np.exp(dot_product) / denominator\n",
    "    \n",
    "    return probability\n",
    "\n",
    "# Skip-gram Model: Conditional probability of \"quick\" given \"brown\"\n",
    "skip_gram_result = skip_gram_probability(\"brown\", \"quick\")\n",
    "print(f\"Skip-gram Model: Conditional probability of 'quick' given 'brown': {skip_gram_result:.4f}\")\n"
   ]
  },
  {
   "cell_type": "code",
   "execution_count": 7,
   "id": "3fd5beca",
   "metadata": {},
   "outputs": [
    {
     "name": "stdout",
     "output_type": "stream",
     "text": [
      "CBOW Model: Conditional probability distribution for 'brown' given ['quick', 'fox']: 0.2840\n"
     ]
    }
   ],
   "source": [
    "import numpy as np\n",
    "\n",
    "# Given word embeddings\n",
    "word_embeddings = {\n",
    "    \"The\": np.array([0.1, 0.3]),\n",
    "    \"quick\": np.array([0.5, 0.2]),\n",
    "    \"brown\": np.array([0.4, 0.9]),\n",
    "    \"fox\": np.array([0.7, 0.6])\n",
    "}\n",
    "\n",
    "# CBOW Model\n",
    "def cbow_probability(target_word, context_words):\n",
    "    # Assuming window size is 2\n",
    "    context_embeddings = [word_embeddings[word] for word in context_words]\n",
    "    target_embedding = word_embeddings[target_word]\n",
    "    \n",
    "    context_avg = np.mean(context_embeddings, axis=0)  # Take the average instead of summing\n",
    "    dot_product = np.dot(target_embedding, context_avg)\n",
    "    probability = np.exp(dot_product) / np.sum(np.exp([np.dot(context_avg, emb) for emb in list(word_embeddings.values())]))\n",
    "    \n",
    "    return probability\n",
    "\n",
    "# CBOW Model: Conditional probability distribution for \"brown\" given [\"quick\", \"fox\"]\n",
    "cbow_result = cbow_probability(\"brown\", [\"quick\", \"fox\"])\n",
    "print(f\"CBOW Model: Conditional probability distribution for 'brown' given ['quick', 'fox']: {cbow_result:.4f}\")\n"
   ]
  }
 ],
 "metadata": {
  "kernelspec": {
   "display_name": "Python 3 (ipykernel)",
   "language": "python",
   "name": "python3"
  },
  "language_info": {
   "codemirror_mode": {
    "name": "ipython",
    "version": 3
   },
   "file_extension": ".py",
   "mimetype": "text/x-python",
   "name": "python",
   "nbconvert_exporter": "python",
   "pygments_lexer": "ipython3",
   "version": "3.10.9"
  }
 },
 "nbformat": 4,
 "nbformat_minor": 5
}
