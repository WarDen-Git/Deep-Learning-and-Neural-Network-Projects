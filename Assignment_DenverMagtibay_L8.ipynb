{
 "cells": [
  {
   "cell_type": "code",
   "execution_count": 1,
   "metadata": {
    "colab": {
     "base_uri": "https://localhost:8080/"
    },
    "executionInfo": {
     "elapsed": 12,
     "status": "ok",
     "timestamp": 1704275677334,
     "user": {
      "displayName": "Denver G. Magtibay",
      "userId": "04950471283753506623"
     },
     "user_tz": -480
    },
    "id": "dHGQ22xFu-0L",
    "outputId": "5dbb4bbe-e560-4b5f-9b57-d084abec1792"
   },
   "outputs": [
    {
     "name": "stdout",
     "output_type": "stream",
     "text": [
      "Estimated Values after 1000 episodes:\n",
      "State 0: 0.8585437002806076\n",
      "State 1: 0.6010914688569476\n",
      "State 2: 0.8470520664989032\n",
      "State 3: 0.0\n"
     ]
    }
   ],
   "source": [
    "import numpy as np\n",
    "\n",
    "# Define the environment\n",
    "num_states = 4\n",
    "transitions = {\n",
    "    0: [1, 3],\n",
    "    1: [0, 2],\n",
    "    2: [1, 3],\n",
    "    3: [0, 2],\n",
    "}\n",
    "rewards = {\n",
    "    3: 1,\n",
    "    0: -0.1,\n",
    "    1: -0.1,\n",
    "    2: -0.1,\n",
    "}\n",
    "\n",
    "# TD(0) learning algorithm\n",
    "def td_learning(num_episodes, alpha, gamma):\n",
    "    values = np.zeros(num_states)\n",
    "\n",
    "    for episode in range(num_episodes):\n",
    "        state = np.random.randint(num_states)  # Initial state randomly chosen\n",
    "\n",
    "        while state != 3:  # Continue until reaching state 3\n",
    "            next_state = np.random.choice(transitions[state])\n",
    "            reward = rewards.get(next_state, 0)\n",
    "\n",
    "            # TD update\n",
    "            values[state] += alpha * (reward + gamma * values[next_state] - values[state])\n",
    "\n",
    "            state = next_state\n",
    "\n",
    "    return values\n",
    "\n",
    "# Run the TD(0) algorithm for 1000 episodes\n",
    "num_episodes = 1000\n",
    "learning_rate = 0.1\n",
    "discount_factor = 0.9\n",
    "\n",
    "estimated_values = td_learning(num_episodes, learning_rate, discount_factor)\n",
    "\n",
    "# Print the estimated values after 1000 episodes\n",
    "print(\"Estimated Values after 1000 episodes:\")\n",
    "for state, value in enumerate(estimated_values):\n",
    "    print(f\"State {state}: {value}\")\n"
   ]
  },
  {
   "cell_type": "markdown",
   "metadata": {
    "id": "vEAbVwJpxnH8"
   },
   "source": [
    "**Temporal Difference (TD) Learning algorithm**\n",
    "\n",
    "The Temporal Difference (TD) learning algorithm is a fundamental technique in reinforcement learning, aiming to estimate the expected returns for different states under a given policy."
   ]
  },
  {
   "cell_type": "markdown",
   "metadata": {
    "id": "64n__QATx4kp"
   },
   "source": [
    "**Environment Description**\n",
    "\n",
    "**States**: The environment comprises four states (0, 1, 2, 3).\n",
    "\n",
    "**Transitions**: The transitions between states are defined as follows:\n",
    "*  From 0 to 1 or 3\n",
    "*  From 1 to 0 or 2\n",
    "*  From 2 to 1 or 3\n",
    "*  From 3 to 0 or 2\n",
    "\n",
    "**Rewards**:\n",
    "* +1 for reaching state 3\n",
    "* -0.1 for each movement in other transitions"
   ]
  },
  {
   "cell_type": "markdown",
   "metadata": {
    "id": "MOGcGugTyQXT"
   },
   "source": [
    "**TD(0) Learning Algorithm**\n",
    "\n",
    "The TD(0) learning algorithm is employed to estimate the value of each state under a random policy. The algorithm updates the state values based on the temporal difference between the current estimate and the estimated value of the next state. The update rule is given by:\n",
    "\n",
    "V(s)←V(s)+α⋅(R+γ⋅V(s′)−V(s))\n",
    "* V(s) is the estimated value of state s\n",
    "* α is the learning rate\n",
    "* R is the immediate reward\n",
    "* γ is the discount factor\n",
    "* s′ is the next state"
   ]
  },
  {
   "cell_type": "markdown",
   "metadata": {
    "id": "Fnmx3C-B0J_Q"
   },
   "source": [
    "**Parameters**\n",
    "\n",
    "* Learning Rate (α): 0.1\n",
    "* Discount Factor (γ): 0.9\n",
    "* Number of Episodes: 1000\n"
   ]
  },
  {
   "cell_type": "markdown",
   "metadata": {
    "id": "9kGYP-rO0mNC"
   },
   "source": [
    "**Analysis of the Results**\n",
    "\n",
    "The estimated values after 1000 episodes represent the expected returns (cumulative rewards) under the given policy for each state. In the context of reinforcement learning and the TD(0) algorithm, the estimated value of a state is the expected sum of future rewards that an agent can obtain starting from that state and following the given policy.\n",
    "\n",
    "**State 0: 0.8585437002806076**\n",
    "\n",
    "* This value represents the expected return when starting from State 0 and following the random policy for 1000 episodes. It takes into account the penalty for each movement (-0.1) and the reward for reaching State 3 (+1). The value is positive, indicating that, on average, the agent can expect a net positive return from starting in State 0.\n",
    "\n",
    "**State 1: 0.6010914688569476**\n",
    "\n",
    "* Similar to State 0, this value represents the expected return when starting from State 1. The lower value compared to State 0 suggests that, on average, starting from State 1 leads to a slightly lower expected return.\n",
    "\n",
    "**State 2: 0.8470520664989032**\n",
    "\n",
    "* This value represents the expected return when starting from State 2. Like State 0, it is positive, indicating that, on average, starting from State 2 leads to a net positive return.\n",
    "\n",
    "**State 3: 0.0**\n",
    "\n",
    "* Since State 3 is the goal state and no further transitions are possible, the expected return is 0. This is expected because once the agent reaches State 3, there are no more future rewards to be obtained."
   ]
  },
  {
   "cell_type": "markdown",
   "metadata": {
    "id": "2jPDPVHOBb_L"
   },
   "source": [
    "![image.png](data:image/png;base64,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)"
   ]
  },
  {
   "cell_type": "markdown",
   "metadata": {
    "id": "nlPf3OogFopM"
   },
   "source": [
    "**Observation**:\n",
    "\n",
    "* Compared to State 0 and State 2, State 1 is farther from the goal State 3, thus, the agent experiences more penalty for each movement. The lower value of State 1 reflects the increased cost associated with reaching the goal from State 1 to State 3.\n",
    "* On the other hand, State 0 and State 2 will have close value to each other since they are both directly connected to State 3.\n",
    "* The goal state has an estimated value of 0.0, as there are no further transitions possible from State 3."
   ]
  }
 ],
 "metadata": {
  "colab": {
   "authorship_tag": "ABX9TyPQlR7bJ6Q9wTMkegXFTk4n",
   "provenance": []
  },
  "kernelspec": {
   "display_name": "Python 3 (ipykernel)",
   "language": "python",
   "name": "python3"
  },
  "language_info": {
   "codemirror_mode": {
    "name": "ipython",
    "version": 3
   },
   "file_extension": ".py",
   "mimetype": "text/x-python",
   "name": "python",
   "nbconvert_exporter": "python",
   "pygments_lexer": "ipython3",
   "version": "3.10.9"
  }
 },
 "nbformat": 4,
 "nbformat_minor": 1
}
