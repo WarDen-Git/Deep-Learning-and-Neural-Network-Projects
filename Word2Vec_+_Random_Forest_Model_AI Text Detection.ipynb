{
 "cells": [
  {
   "cell_type": "code",
   "execution_count": null,
   "id": "uvl9YA3W0PsA",
   "metadata": {
    "colab": {
     "base_uri": "https://localhost:8080/"
    },
    "id": "uvl9YA3W0PsA",
    "outputId": "537c0e96-25ee-45db-ab2f-65cf526df5c1"
   },
   "outputs": [
    {
     "name": "stdout",
     "output_type": "stream",
     "text": [
      "Mounted at /content/drive\n"
     ]
    }
   ],
   "source": [
    "from google.colab import drive\n",
    "drive.mount('/content/drive')"
   ]
  },
  {
   "cell_type": "markdown",
   "id": "2035a87f",
   "metadata": {
    "id": "2035a87f"
   },
   "source": [
    "### Step 1: Preprocessing"
   ]
  },
  {
   "cell_type": "code",
   "execution_count": null,
   "id": "6d952f5c",
   "metadata": {
    "colab": {
     "base_uri": "https://localhost:8080/"
    },
    "id": "6d952f5c",
    "outputId": "aa28d654-0483-47d9-ef22-ab3fb335805e"
   },
   "outputs": [
    {
     "name": "stderr",
     "output_type": "stream",
     "text": [
      "[nltk_data] Downloading package stopwords to /root/nltk_data...\n",
      "[nltk_data]   Package stopwords is already up-to-date!\n",
      "[nltk_data] Downloading package punkt to /root/nltk_data...\n",
      "[nltk_data]   Package punkt is already up-to-date!\n",
      "[nltk_data] Downloading package wordnet to /root/nltk_data...\n",
      "[nltk_data]   Package wordnet is already up-to-date!\n"
     ]
    }
   ],
   "source": [
    "import pandas as pd\n",
    "import numpy as np\n",
    "import re\n",
    "import string\n",
    "from nltk.tokenize import word_tokenize\n",
    "from nltk.corpus import stopwords\n",
    "from nltk.stem import WordNetLemmatizer\n",
    "import nltk\n",
    "import torch\n",
    "from gensim.models import KeyedVectors\n",
    "\n",
    "# Download NLTK stopwords, punkt, and wordnet resources\n",
    "nltk.download('stopwords')\n",
    "nltk.download('punkt')\n",
    "nltk.download('wordnet')\n",
    "\n",
    "from nltk.tokenize import word_tokenize\n",
    "from nltk.corpus import stopwords\n",
    "from nltk.stem import WordNetLemmatizer\n"
   ]
  },
  {
   "cell_type": "markdown",
   "id": "7GhOtyy4-1er",
   "metadata": {
    "id": "7GhOtyy4-1er"
   },
   "source": [
    "### Step 2: Load the Word2Vec model"
   ]
  },
  {
   "cell_type": "code",
   "execution_count": null,
   "id": "83cea8d7",
   "metadata": {
    "colab": {
     "base_uri": "https://localhost:8080/"
    },
    "id": "83cea8d7",
    "outputId": "6447288c-94a6-41e5-f54c-e7ec035f2360"
   },
   "outputs": [
    {
     "name": "stdout",
     "output_type": "stream",
     "text": [
      "                                                text  generated\n",
      "0  Machine learning, a subset of artificial intel...          1\n",
      "1  A decision tree, a prominent machine learning ...          1\n",
      "2  Education, a cornerstone of societal progress,...          1\n",
      "3  Computers, the backbone of modern technology, ...          1\n",
      "4  Chess, a timeless game of strategy and intelle...          1\n"
     ]
    }
   ],
   "source": [
    "# Load the Word2Vec model\n",
    "model_path = '/content/drive/MyDrive/Neural Net and Deep Learning Files/GoogleNews-vectors-negative300.bin.gz'\n",
    "word2vec_model = KeyedVectors.load_word2vec_format(model_path, binary=True)\n",
    "\n",
    "# Create an embedding matrix for PyTorch\n",
    "embedding_matrix = torch.FloatTensor(word2vec_model.vectors)\n",
    "\n",
    "# Load the dataset\n",
    "file_path = 'train_essays.xlsx'\n",
    "data = pd.read_excel('/content/drive/MyDrive/Neural Net and Deep Learning Files/train_essays.xlsx')\n",
    "\n",
    "# Now you can view the data by printing the first few rows\n",
    "print(data.head())"
   ]
  },
  {
   "cell_type": "code",
   "execution_count": null,
   "id": "9493cea1",
   "metadata": {
    "id": "9493cea1"
   },
   "outputs": [],
   "source": [
    "# Preprocessing function to clean and tokenize text\n",
    "def preprocess_text(text):\n",
    "    # Convert to lowercase and remove punctuation\n",
    "    text = text.lower()\n",
    "    text = re.sub(f'[{string.punctuation}]', '', text)\n",
    "\n",
    "    # Tokenize and remove stopwords\n",
    "    stop_words = set(stopwords.words('english'))\n",
    "    words = word_tokenize(text)\n",
    "    words = [word for word in words if word not in stop_words]\n",
    "\n",
    "    # Lemmatize words\n",
    "    lemmatizer = WordNetLemmatizer()\n",
    "    lemmatized = [lemmatizer.lemmatize(word) for word in words]\n",
    "\n",
    "    return lemmatized"
   ]
  },
  {
   "cell_type": "code",
   "execution_count": null,
   "id": "b6056e22",
   "metadata": {
    "id": "b6056e22"
   },
   "outputs": [],
   "source": [
    "# Apply preprocessing to each essay\n",
    "data['processed_text'] = data['text'].apply(preprocess_text)"
   ]
  },
  {
   "cell_type": "markdown",
   "id": "961d941d",
   "metadata": {
    "id": "961d941d"
   },
   "source": [
    "### Step 3: Vectorize Essays"
   ]
  },
  {
   "cell_type": "code",
   "execution_count": null,
   "id": "a8d6952b",
   "metadata": {
    "colab": {
     "base_uri": "https://localhost:8080/"
    },
    "id": "a8d6952b",
    "outputId": "ccb3d839-8fa5-4843-b33f-de36bec93f6a"
   },
   "outputs": [
    {
     "name": "stdout",
     "output_type": "stream",
     "text": [
      "                                                   text  \\\n",
      "0     Machine learning, a subset of artificial intel...   \n",
      "1     A decision tree, a prominent machine learning ...   \n",
      "2     Education, a cornerstone of societal progress,...   \n",
      "3     Computers, the backbone of modern technology, ...   \n",
      "4     Chess, a timeless game of strategy and intelle...   \n",
      "...                                                 ...   \n",
      "1455  There has been a fuss about the Elector Colleg...   \n",
      "1456  Limiting car usage has many advantages. Such a...   \n",
      "1457  There's a new trend that has been developing f...   \n",
      "1458  As we all know cars are a big part of our soci...   \n",
      "1459  Cars have been around since the 1800's and hav...   \n",
      "\n",
      "                                          essay_vectors  \n",
      "0     [0.010999494983303932, 0.021868305821572582, 0...  \n",
      "1     [0.048919465806749135, 0.027676052517361112, 0...  \n",
      "2     [-0.029397052267323368, 0.03416144329568614, -...  \n",
      "3     [0.028334723578559026, -0.02112543015252976, -...  \n",
      "4     [0.0554736287970292, 0.03907685530813117, 0.03...  \n",
      "...                                                 ...  \n",
      "1455  [0.06795166661499669, -0.0064992450532459075, ...  \n",
      "1456  [0.04278771773628567, 0.04267808665399966, 0.0...  \n",
      "1457  [0.0478355537340479, 0.025684967781733542, 0.0...  \n",
      "1458  [0.06688232421875, 0.017350324594749594, 0.014...  \n",
      "1459  [0.028374583132353873, 0.019896791048860742, 0...  \n",
      "\n",
      "[1460 rows x 2 columns]\n"
     ]
    }
   ],
   "source": [
    "# Function to calculate the average vector for an essay\n",
    "def average_word_vectors(words, model, vocabulary, num_features):\n",
    "    feature_vector = np.zeros((num_features,), dtype=\"float64\")\n",
    "    nwords = 0.\n",
    "\n",
    "    for word in words:\n",
    "        if word in vocabulary:\n",
    "            nwords = nwords + 1.\n",
    "            feature_vector = np.add(feature_vector, model[word])\n",
    "\n",
    "    if nwords:\n",
    "        feature_vector = np.divide(feature_vector, nwords)\n",
    "\n",
    "    return feature_vector\n",
    "\n",
    "# Create a vocabulary from the Word2Vec model\n",
    "vocabulary = set(word2vec_model.index_to_key)\n",
    "\n",
    "# Apply the average_word_vectors function to each essay\n",
    "data['essay_vectors'] = data['processed_text'].apply(\n",
    "    lambda x: average_word_vectors(x, word2vec_model, vocabulary, 300)\n",
    ")\n",
    "\n",
    "# Display the resulting DataFrame with essay vectors\n",
    "print(data[['text', 'essay_vectors']])"
   ]
  },
  {
   "cell_type": "markdown",
   "id": "a9adb25a",
   "metadata": {
    "id": "a9adb25a"
   },
   "source": [
    "### Step 4: Train the Classifier\n",
    "With the vectorized essays, you can now train a machine learning classifier:"
   ]
  },
  {
   "cell_type": "code",
   "execution_count": null,
   "id": "9633bc2f",
   "metadata": {
    "id": "9633bc2f"
   },
   "outputs": [],
   "source": [
    "from sklearn.model_selection import train_test_split\n",
    "from sklearn.ensemble import RandomForestClassifier\n",
    "from sklearn.metrics import accuracy_score, precision_recall_fscore_support, roc_auc_score"
   ]
  },
  {
   "cell_type": "code",
   "execution_count": null,
   "id": "61a39b2b",
   "metadata": {
    "colab": {
     "base_uri": "https://localhost:8080/"
    },
    "id": "61a39b2b",
    "outputId": "cc9a06e8-801a-4ba3-d76d-8bf3b6dc504d"
   },
   "outputs": [
    {
     "name": "stdout",
     "output_type": "stream",
     "text": [
      "Accuracy: 0.997716894977169\n",
      "Precision: 1.0\n",
      "Recall: 0.9583333333333334\n",
      "F1 Score: 0.9787234042553191\n",
      "AUC-ROC: 0.9791666666666667\n"
     ]
    }
   ],
   "source": [
    "# Assuming you have a target variable 'y' in your dataset\n",
    "y = data['generated']  # Replace 'target_column' with the actual name of your target column\n",
    "\n",
    "# Split the data into training and testing sets (70-30 split)\n",
    "X_train, X_test, y_train, y_test = train_test_split(data['essay_vectors'].tolist(), y, test_size=0.3, random_state=42)\n",
    "\n",
    "# Convert lists to arrays\n",
    "X_train = np.array(X_train)\n",
    "X_test = np.array(X_test)\n",
    "\n",
    "# Initialize and train the Random Forest classifier\n",
    "rf_classifier = RandomForestClassifier(random_state=42)\n",
    "rf_classifier.fit(X_train, y_train)\n",
    "\n",
    "# Predict on the test set\n",
    "y_pred = rf_classifier.predict(X_test)\n",
    "\n",
    "# Evaluate the classifier\n",
    "accuracy = accuracy_score(y_test, y_pred)\n",
    "precision, recall, f1, _ = precision_recall_fscore_support(y_test, y_pred, average='binary')\n",
    "roc_auc = roc_auc_score(y_test, y_pred)\n",
    "\n",
    "# Print the evaluation metrics\n",
    "print(f\"Accuracy: {accuracy}\")\n",
    "print(f\"Precision: {precision}\")\n",
    "print(f\"Recall: {recall}\")\n",
    "print(f\"F1 Score: {f1}\")\n",
    "print(f\"AUC-ROC: {roc_auc}\")"
   ]
  },
  {
   "cell_type": "code",
   "execution_count": null,
   "id": "3d8f3528",
   "metadata": {
    "colab": {
     "base_uri": "https://localhost:8080/",
     "height": 564
    },
    "id": "3d8f3528",
    "outputId": "91d28e76-abe1-4851-f37d-6f1cc1f228f8"
   },
   "outputs": [
    {
     "data": {
      "image/png": "[encoded data removed]",
      "text/plain": [
       "<Figure size 800x600 with 2 Axes>"
      ]
     },
     "metadata": {},
     "output_type": "display_data"
    }
   ],
   "source": [
    "from sklearn.metrics import confusion_matrix\n",
    "import seaborn as sns\n",
    "\n",
    "# Generate the confusion matrix\n",
    "cm = confusion_matrix(y_test, y_pred)\n",
    "\n",
    "# Plot the confusion matrix\n",
    "plt.figure(figsize=(8, 6))\n",
    "sns.heatmap(cm, annot=True, fmt='d', cmap='Blues')\n",
    "plt.title('Confusion Matrix')\n",
    "plt.ylabel('True Label')\n",
    "plt.xlabel('Predicted Label')\n",
    "plt.show()\n",
    "\n",
    "# 0 stand for student essay & 1 stands for LLM essay"
   ]
  }
 ],
 "metadata": {
  "colab": {
   "provenance": []
  },
  "kernelspec": {
   "display_name": "Python 3 (ipykernel)",
   "language": "python",
   "name": "python3"
  },
  "language_info": {
   "codemirror_mode": {
    "name": "ipython",
    "version": 3
   },
   "file_extension": ".py",
   "mimetype": "text/x-python",
   "name": "python",
   "nbconvert_exporter": "python",
   "pygments_lexer": "ipython3",
   "version": "3.10.9"
  }
 },
 "nbformat": 4,
 "nbformat_minor": 5
}
